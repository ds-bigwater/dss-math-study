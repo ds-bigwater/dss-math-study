{
 "cells": [
  {
   "cell_type": "markdown",
   "metadata": {},
   "source": [
    "### 3강. 확률 변수의 정의\n",
    "\n",
    "random variable : RV\n",
    "\n",
    "def : real numbers, mapping each outcome of random experiment to a real value, x X(w)\n",
    "\n",
    "sample space 에 있는 여러 값들이 함수에 대응해서 실수 형태로 나타나게 된다.\n",
    "\n",
    "\n",
    "이벤트에 대응하는 숫자를 출력하는 함수\n",
    "- P(앞) = P(1) = $\\frac{1}{2}$\n",
    "- P(뒤) = P(0) = $\\frac{1}{2}$\n",
    "\n",
    "Prob를 function으로 바꾼다.\n",
    "\n",
    "#### Event definition by RV\n",
    "\n",
    "Ax be an event\n",
    "\n",
    "- $A_{x} = \\{w|X(w)=x\\}$\n",
    "\n",
    "\n",
    "- $A_{0} = \\{TT\\}$\n",
    "- $A_{1} = \\{HT, TH\\}$\n",
    "- $A_{2} = \\{HH\\}$\n",
    "\n",
    "$P(A_{1})=P(1)$\n",
    "\n",
    "#### Distribution Functions\n",
    "\n",
    "- RV가 어떤확률 값을 가지고 분포하는지 보여줌\n",
    "- for an RV X, a real value x\n",
    "\n",
    "#### culmalative distribution function (CDF) : 누적 도수 분포\n",
    "\n",
    "$F_{x}(x) = P(x<=x)$\n",
    "\n",
    "동전 앞면 0번 $\\frac{1}{4}$, 1번 $\\frac{1}{2}$,  2번 $\\frac{1}{4}$ 일때,\n",
    "\n",
    "동전 앞면이 0번 1번 나오는 경우는 $F_{x}(1) = P(X<=1)$\n",
    "\n",
    "$\\frac{1}{4} + \\frac{1}{2} = \\frac{3}{4}$\n",
    "\n",
    "\n",
    "\n",
    "#### discrete RV 는 Proablility mass function(PMF)\n",
    "\n",
    "$P_{x}(x) = Prob(X=x)$\n",
    "X가 x가 될 확률\n",
    "\n",
    "$F_{x}(x) = P(X<= x) = \\sum P_{x}(x_{i})$\n"
   ]
  }
 ],
 "metadata": {
  "kernelspec": {
   "display_name": "Python 3",
   "language": "python",
   "name": "python3"
  },
  "language_info": {
   "codemirror_mode": {
    "name": "ipython",
    "version": 3
   },
   "file_extension": ".py",
   "mimetype": "text/x-python",
   "name": "python",
   "nbconvert_exporter": "python",
   "pygments_lexer": "ipython3",
   "version": "3.6.5"
  }
 },
 "nbformat": 4,
 "nbformat_minor": 2
}
